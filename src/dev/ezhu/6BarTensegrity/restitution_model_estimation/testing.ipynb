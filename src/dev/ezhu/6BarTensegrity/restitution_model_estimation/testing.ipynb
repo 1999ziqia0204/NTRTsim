{
 "cells": [
  {
   "cell_type": "code",
   "execution_count": 1,
   "metadata": {},
   "outputs": [],
   "source": [
    "import preprocessing\n",
    "import numpy as np"
   ]
  },
  {
   "cell_type": "code",
   "execution_count": 2,
   "metadata": {},
   "outputs": [
    {
     "name": "stdout",
     "output_type": "stream",
     "text": [
      "Loading data sets\n",
      "Empty file, skipping...\n",
      "Empty file, skipping...\n",
      "Empty file, skipping...\n",
      "Empty file, skipping...\n",
      "Empty file, skipping...\n",
      "Empty file, skipping...\n",
      "Empty file, skipping...\n",
      "Empty file, skipping...\n",
      "Data incomplete, skipping...\n",
      "Empty file, skipping...\n",
      "Empty file, skipping...\n",
      "Empty file, skipping...\n",
      "Empty file, skipping...\n",
      "Empty file, skipping...\n",
      "Empty file, skipping...\n",
      "Empty file, skipping...\n",
      "Empty file, skipping...\n",
      "Empty file, skipping...\n",
      "Empty file, skipping...\n",
      "Empty file, skipping...\n",
      "Empty file, skipping...\n",
      "Empty file, skipping...\n",
      "Empty file, skipping...\n",
      "Empty file, skipping...\n",
      "Empty file, skipping...\n",
      "Empty file, skipping...\n",
      "Empty file, skipping...\n",
      "Empty file, skipping...\n",
      "Empty file, skipping...\n",
      "Empty file, skipping...\n",
      "Empty file, skipping...\n",
      "Empty file, skipping...\n",
      "Empty file, skipping...\n",
      "Empty file, skipping...\n",
      "Empty file, skipping...\n",
      "Empty file, skipping...\n",
      "Empty file, skipping...\n",
      "Empty file, skipping...\n",
      "Empty file, skipping...\n",
      "Empty file, skipping...\n",
      "Empty file, skipping...\n",
      "Empty file, skipping...\n",
      "Empty file, skipping...\n",
      "Data incomplete, skipping...\n",
      "Empty file, skipping...\n",
      "Empty file, skipping...\n",
      "Empty file, skipping...\n",
      "Empty file, skipping...\n",
      "Data incomplete, skipping...\n",
      "Empty file, skipping...\n",
      "Empty file, skipping...\n",
      "Empty file, skipping...\n",
      "Empty file, skipping...\n",
      "Empty file, skipping...\n",
      "Empty file, skipping...\n",
      "Empty file, skipping...\n",
      "Empty file, skipping...\n",
      "Empty file, skipping...\n",
      "Empty file, skipping...\n",
      "Empty file, skipping...\n",
      "Empty file, skipping...\n",
      "Empty file, skipping...\n",
      "Empty file, skipping...\n",
      "Empty file, skipping...\n",
      "Empty file, skipping...\n",
      "Empty file, skipping...\n",
      "Empty file, skipping...\n",
      "Empty file, skipping...\n",
      "Empty file, skipping...\n",
      "Empty file, skipping...\n",
      "Empty file, skipping...\n",
      "Empty file, skipping...\n",
      "Empty file, skipping...\n",
      "Empty file, skipping...\n",
      "Empty file, skipping...\n",
      "Empty file, skipping...\n",
      "Empty file, skipping...\n",
      "Empty file, skipping...\n",
      "Empty file, skipping...\n",
      "Data incomplete, skipping...\n",
      "Empty file, skipping...\n",
      "Empty file, skipping...\n",
      "Empty file, skipping...\n",
      "Empty file, skipping...\n",
      "Empty file, skipping...\n",
      "Data incomplete, skipping...\n",
      "Empty file, skipping...\n",
      "Empty file, skipping...\n",
      "Empty file, skipping...\n",
      "Data incomplete, skipping...\n",
      "Empty file, skipping...\n",
      "Empty file, skipping...\n",
      "Empty file, skipping...\n",
      "Empty file, skipping...\n",
      "Data incomplete, skipping...\n",
      "Empty file, skipping...\n",
      "Empty file, skipping...\n",
      "Empty file, skipping...\n",
      "Empty file, skipping...\n",
      "Data incomplete, skipping...\n",
      "Empty file, skipping...\n",
      "Empty file, skipping...\n",
      "Empty file, skipping...\n",
      "Empty file, skipping...\n",
      "Empty file, skipping...\n",
      "Empty file, skipping...\n",
      "Empty file, skipping...\n",
      "Empty file, skipping...\n",
      "Empty file, skipping...\n",
      "Empty file, skipping...\n",
      "Empty file, skipping...\n",
      "Empty file, skipping...\n",
      "Empty file, skipping...\n",
      "Empty file, skipping...\n",
      "Data incomplete, skipping...\n",
      "Empty file, skipping...\n",
      "Data incomplete, skipping...\n",
      "Empty file, skipping...\n",
      "Empty file, skipping...\n",
      "Empty file, skipping...\n",
      "Empty file, skipping...\n",
      "Empty file, skipping...\n",
      "Empty file, skipping...\n",
      "Empty file, skipping...\n",
      "Empty file, skipping...\n",
      "Empty file, skipping...\n",
      "Empty file, skipping...\n",
      "Data incomplete, skipping...\n",
      "Empty file, skipping...\n",
      "Empty file, skipping...\n",
      "Empty file, skipping...\n",
      "Empty file, skipping...\n",
      "Empty file, skipping...\n",
      "Empty file, skipping...\n",
      "Empty file, skipping...\n",
      "Empty file, skipping...\n",
      "Empty file, skipping...\n",
      "Empty file, skipping...\n",
      "Empty file, skipping...\n",
      "Empty file, skipping...\n",
      "Empty file, skipping...\n",
      "Data incomplete, skipping...\n",
      "Empty file, skipping...\n",
      "Empty file, skipping...\n",
      "Empty file, skipping...\n",
      "Empty file, skipping...\n",
      "Empty file, skipping...\n",
      "Empty file, skipping...\n",
      "Empty file, skipping...\n",
      "Empty file, skipping...\n",
      "Empty file, skipping...\n",
      "Empty file, skipping...\n",
      "Empty file, skipping...\n",
      "Empty file, skipping...\n",
      "Empty file, skipping...\n",
      "Empty file, skipping...\n",
      "Empty file, skipping...\n",
      "Empty file, skipping...\n",
      "Empty file, skipping...\n",
      "Empty file, skipping...\n",
      "Empty file, skipping...\n",
      "Empty file, skipping...\n"
     ]
    },
    {
     "ename": "NameError",
     "evalue": "name 'feat' is not defined",
     "output_type": "error",
     "traceback": [
      "\u001b[0;31m------------------------------------------------------------------------\u001b[0m",
      "\u001b[0;31mNameError\u001b[0m                              Traceback (most recent call last)",
      "\u001b[0;32m<ipython-input-2-3f88668ec1bc>\u001b[0m in \u001b[0;36m<module>\u001b[0;34m()\u001b[0m\n\u001b[0;32m----> 1\u001b[0;31m \u001b[0mdata\u001b[0m \u001b[0;34m=\u001b[0m \u001b[0mpreprocessing\u001b[0m\u001b[0;34m.\u001b[0m\u001b[0mget_dataset\u001b[0m\u001b[0;34m(\u001b[0m\u001b[0;34m)\u001b[0m\u001b[0;34m\u001b[0m\u001b[0m\n\u001b[0m",
      "\u001b[0;32m~/NTRTsim/src/dev/ezhu/6BarTensegrity/restitution_model_estimation/preprocessing.py\u001b[0m in \u001b[0;36mget_dataset\u001b[0;34m()\u001b[0m\n\u001b[1;32m     78\u001b[0m \u001b[0;34m\u001b[0m\u001b[0m\n\u001b[1;32m     79\u001b[0m     \u001b[0mx_train\u001b[0m \u001b[0;34m=\u001b[0m \u001b[0;34m{\u001b[0m\u001b[0;34m'features'\u001b[0m\u001b[0;34m:\u001b[0m\u001b[0mx_feat\u001b[0m\u001b[0;34m[\u001b[0m\u001b[0;36m0\u001b[0m\u001b[0;34m:\u001b[0m\u001b[0mn_train\u001b[0m\u001b[0;34m]\u001b[0m\u001b[0;34m,\u001b[0m \u001b[0;34m'states'\u001b[0m\u001b[0;34m:\u001b[0m\u001b[0mx_state\u001b[0m\u001b[0;34m[\u001b[0m\u001b[0;36m0\u001b[0m\u001b[0;34m:\u001b[0m\u001b[0mn_train\u001b[0m\u001b[0;34m]\u001b[0m\u001b[0;34m}\u001b[0m\u001b[0;34m\u001b[0m\u001b[0m\n\u001b[0;32m---> 80\u001b[0;31m     \u001b[0my_train\u001b[0m \u001b[0;34m=\u001b[0m \u001b[0;34m{\u001b[0m\u001b[0;34m'state_diff'\u001b[0m\u001b[0;34m:\u001b[0m\u001b[0mfeat\u001b[0m\u001b[0;34m[\u001b[0m\u001b[0;36m0\u001b[0m\u001b[0;34m:\u001b[0m\u001b[0mn_train\u001b[0m\u001b[0;34m]\u001b[0m\u001b[0;34m,\u001b[0m \u001b[0;34m'states'\u001b[0m\u001b[0;34m:\u001b[0m\u001b[0my_state\u001b[0m\u001b[0;34m[\u001b[0m\u001b[0;36m0\u001b[0m\u001b[0;34m:\u001b[0m\u001b[0mn_train\u001b[0m\u001b[0;34m]\u001b[0m\u001b[0;34m}\u001b[0m\u001b[0;34m\u001b[0m\u001b[0m\n\u001b[0m\u001b[1;32m     81\u001b[0m     \u001b[0mx_test\u001b[0m \u001b[0;34m=\u001b[0m \u001b[0;34m{\u001b[0m\u001b[0;34m'features'\u001b[0m\u001b[0;34m:\u001b[0m\u001b[0mx_feat\u001b[0m\u001b[0;34m[\u001b[0m\u001b[0mn_train\u001b[0m\u001b[0;34m:\u001b[0m\u001b[0;34m]\u001b[0m\u001b[0;34m,\u001b[0m \u001b[0;34m'states'\u001b[0m\u001b[0;34m:\u001b[0m\u001b[0mx_state\u001b[0m\u001b[0;34m[\u001b[0m\u001b[0mn_train\u001b[0m\u001b[0;34m:\u001b[0m\u001b[0;34m]\u001b[0m\u001b[0;34m}\u001b[0m\u001b[0;34m\u001b[0m\u001b[0m\n\u001b[1;32m     82\u001b[0m     \u001b[0my_test\u001b[0m \u001b[0;34m=\u001b[0m \u001b[0;34m{\u001b[0m\u001b[0;34m'state_diff'\u001b[0m\u001b[0;34m:\u001b[0m\u001b[0my_feat\u001b[0m\u001b[0;34m[\u001b[0m\u001b[0mn_train\u001b[0m\u001b[0;34m:\u001b[0m\u001b[0;34m]\u001b[0m\u001b[0;34m,\u001b[0m \u001b[0;34m'states'\u001b[0m\u001b[0;34m:\u001b[0m\u001b[0my_state\u001b[0m\u001b[0;34m[\u001b[0m\u001b[0mn_train\u001b[0m\u001b[0;34m:\u001b[0m\u001b[0;34m]\u001b[0m\u001b[0;34m}\u001b[0m\u001b[0;34m\u001b[0m\u001b[0m\n",
      "\u001b[0;31mNameError\u001b[0m: name 'feat' is not defined"
     ]
    }
   ],
   "source": [
    "data = preprocessing.get_dataset()"
   ]
  },
  {
   "cell_type": "code",
   "execution_count": null,
   "metadata": {},
   "outputs": [],
   "source": [
    "data['y_train']['state_diff'].shape"
   ]
  },
  {
   "cell_type": "code",
   "execution_count": 6,
   "metadata": {},
   "outputs": [
    {
     "name": "stdout",
     "output_type": "stream",
     "text": [
      "[[0 1 4 9]\n",
      " [1 0 1 4]\n",
      " [4 1 0 1]\n",
      " [9 4 1 0]]\n"
     ]
    }
   ],
   "source": [
    "x = np.array([[1,2,3,4]])\n",
    "diffs = np.tile(x,(len(x),1))-np.tile(x.T,(1,len(x)))\n",
    "print(diffs**2)"
   ]
  },
  {
   "cell_type": "code",
   "execution_count": 3,
   "metadata": {},
   "outputs": [],
   "source": [
    "a = {'i':1,'l':2}"
   ]
  },
  {
   "cell_type": "code",
   "execution_count": 6,
   "metadata": {},
   "outputs": [
    {
     "data": {
      "text/plain": [
       "True"
      ]
     },
     "execution_count": 6,
     "metadata": {},
     "output_type": "execute_result"
    }
   ],
   "source": [
    "type(a) == dict"
   ]
  },
  {
   "cell_type": "code",
   "execution_count": null,
   "metadata": {},
   "outputs": [],
   "source": []
  }
 ],
 "metadata": {
  "kernelspec": {
   "display_name": "Python 3",
   "language": "python",
   "name": "python3"
  },
  "language_info": {
   "codemirror_mode": {
    "name": "ipython",
    "version": 3
   },
   "file_extension": ".py",
   "mimetype": "text/x-python",
   "name": "python",
   "nbconvert_exporter": "python",
   "pygments_lexer": "ipython3",
   "version": "3.5.2"
  }
 },
 "nbformat": 4,
 "nbformat_minor": 2
}
